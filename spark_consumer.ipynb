{
 "cells": [
  {
   "cell_type": "code",
   "execution_count": 1,
   "id": "8ca32bcb",
   "metadata": {},
   "outputs": [],
   "source": [
    "import praw\n",
    "import json"
   ]
  },
  {
   "cell_type": "code",
   "execution_count": 2,
   "id": "fdb6ba0a",
   "metadata": {},
   "outputs": [],
   "source": [
    "with open(\"config.json\", \"r\") as jsonfile:\n",
    "    data = json.load(jsonfile)  # Reading the config file\n",
    "#     print(\"Config data read successful\", data)"
   ]
  },
  {
   "cell_type": "code",
   "execution_count": 3,
   "id": "af84bea6",
   "metadata": {},
   "outputs": [
    {
     "name": "stderr",
     "output_type": "stream",
     "text": [
      "C:\\Users\\ayoad\\Downloads\\Anaconda\\A\\lib\\site-packages\\pyspark\\streaming\\context.py:72: FutureWarning: DStream is deprecated as of Spark 3.4.0. Migrate to Structured Streaming.\n",
      "  warnings.warn(\n",
      "C:\\Users\\ayoad\\Downloads\\Anaconda\\A\\lib\\site-packages\\pyspark\\sql\\context.py:113: FutureWarning: Deprecated in 3.0.0. Use SparkSession.builder.getOrCreate() instead.\n",
      "  warnings.warn(\n"
     ]
    }
   ],
   "source": [
    "from collections import namedtuple  # Each element will be assigned a field\n",
    "import sys\n",
    "from pyspark import SparkContext, SparkConf\n",
    "from pyspark.streaming import StreamingContext\n",
    "from pyspark.sql import SparkSession,SQLContext\n",
    "# Allow us to order things in decscending order\n",
    "from pyspark.sql.functions import desc\n",
    "\n",
    "# create spark configuration\n",
    "conf = SparkConf()\n",
    "conf.setAppName(\"RedditStreamApp\")\n",
    "# create spark context with the above configuration\n",
    "sc = SparkContext(conf=conf)\n",
    "sc.setLogLevel(\"ERROR\")\n",
    "# create the Streaming Context from the above spark context with interval size 10 seconds\n",
    "ssc = StreamingContext(sc, 10)\n",
    "# setting a checkpoint to allow RDD recovery\n",
    "####ssc.checkpoint(\"checkpoint_RedditApp\")\n",
    "# read data from port 5590\n",
    "# socket_stream = ssc.socketTextStream(\"localhost\", 5590)\n",
    "\n",
    "\n",
    "# sc = SparkContext() # Establish an entry point of Apache Spark functionality.\n",
    "# ssc = StreamingContext(sc, 10) # Create streaming context with intervals of 10 seconds.\n",
    "sqlContext = SQLContext(sc) # Initialising Spark SQL functionalities.\n",
    "\n",
    "socket_stream = ssc.socketTextStream(\"127.0.0.1\", 5590)\n"
   ]
  },
  {
   "cell_type": "code",
   "execution_count": 4,
   "id": "53970e97",
   "metadata": {},
   "outputs": [],
   "source": [
    "### Modify the code here to match your logic in reddit_producer.py\n",
    "#**********************\n",
    "lines = socket_stream.window(20)\n",
    "fields = (\"author\",'date','time','words')\n",
    "RedditComment = namedtuple('RedditComment', fields)\n"
   ]
  },
  {
   "cell_type": "code",
   "execution_count": 5,
   "id": "d7b4a604",
   "metadata": {},
   "outputs": [],
   "source": [
    "import matplotlib.pyplot as plt\n",
    "import matplotlib.animation as animation\n",
    "from matplotlib import style\n",
    "import matplotlib_inline\n",
    "import pandas as pd"
   ]
  },
  {
   "cell_type": "code",
   "execution_count": 6,
   "id": "e994996e",
   "metadata": {},
   "outputs": [],
   "source": [
    "x_times = []\n",
    "avgs = []"
   ]
  },
  {
   "cell_type": "code",
   "execution_count": 7,
   "id": "6fa2424c",
   "metadata": {},
   "outputs": [],
   "source": [
    "def get_sql_context_instance(spark_context):\n",
    "    if ('sqlContextSingletonInstance' not in globals()):\n",
    "        globals()['sqlContextSingletonInstance'] = SQLContext(spark_context)\n",
    "    return globals()['sqlContextSingletonInstance']\n",
    "\n",
    "\n",
    "def test_content(string):\n",
    "    print(string)\n",
    "    return eval(string)\n",
    "\n",
    "def get_average(x):\n",
    "    total = sum(x)\n",
    "    length = len(x)\n",
    "    return int(total / length)\n",
    "\n",
    "def process_rdd(time, rdd):\n",
    "    print(\"----------- %s -----------\" % str(time))\n",
    "    try:\n",
    "        sql_context = get_sql_context_instance(rdd.context)\n",
    "        row_rdd = rdd.map(lambda rec: RedditComment(rec['author'],rec['date'],rec['time'],rec['words']))\n",
    "        comments_df = sql_context.createDataFrame(row_rdd)\n",
    "        comments_df.registerTempTable(\"comments\")\n",
    "        #comments_df_sql = sql_context.sql(\"select * from comments limit 10\")\n",
    "        #comments_df_sql.show()\n",
    "\n",
    "        x_time = str(time).split(\" \")[1]\n",
    "        x_times.append(x_time)\n",
    "\n",
    "        df = comments_df.toPandas()\n",
    "        print(df.head())\n",
    "\n",
    "        avg = get_average(df['words'])\n",
    "        avgs.append(avg)\n",
    "        print(x_time, \"->\", avg, \"words\")\n",
    "        \n",
    "\n",
    "\n",
    "    except:\n",
    "        e = sys.exc_info()[0]\n",
    "        print(\"Error: %s\" % e)\n",
    "\n",
    "\n",
    "\n",
    "\n",
    "(lines.map(lambda text: test_content(text)).foreachRDD(process_rdd))"
   ]
  },
  {
   "cell_type": "code",
   "execution_count": 8,
   "id": "1c041a8d",
   "metadata": {},
   "outputs": [],
   "source": [
    "# take each words value\n",
    "# group into 10 second groups\n",
    "# find average num words per 10 second group\n",
    "# plot in live matplotlib\n",
    "# x axis of time, y axis average number of unique words\n",
    "# each x value is 10 second increment in time"
   ]
  },
  {
   "cell_type": "code",
   "execution_count": 9,
   "id": "433de608",
   "metadata": {
    "scrolled": true
   },
   "outputs": [
    {
     "name": "stdout",
     "output_type": "stream",
     "text": [
      "----------- 2023-12-07 15:41:20 -----------\n"
     ]
    },
    {
     "name": "stderr",
     "output_type": "stream",
     "text": [
      "C:\\Users\\ayoad\\Downloads\\Anaconda\\A\\lib\\site-packages\\pyspark\\sql\\context.py:113: FutureWarning: Deprecated in 3.0.0. Use SparkSession.builder.getOrCreate() instead.\n",
      "  warnings.warn(\n"
     ]
    },
    {
     "name": "stdout",
     "output_type": "stream",
     "text": [
      "Error: <class 'py4j.protocol.Py4JJavaError'>\n",
      "----------- 2023-12-07 15:41:30 -----------\n"
     ]
    }
   ],
   "source": [
    "ssc.start()\n",
    "# ssc.awaitTermination()  \n"
   ]
  },
  {
   "cell_type": "code",
   "execution_count": 10,
   "id": "26ff499e",
   "metadata": {
    "scrolled": true
   },
   "outputs": [
    {
     "name": "stdout",
     "output_type": "stream",
     "text": [
      "Error: <class 'py4j.protocol.Py4JJavaError'>\n"
     ]
    }
   ],
   "source": [
    "ssc.stop()"
   ]
  }
 ],
 "metadata": {
  "kernelspec": {
   "display_name": "Python 3",
   "language": "python",
   "name": "python3"
  },
  "language_info": {
   "codemirror_mode": {
    "name": "ipython",
    "version": 3
   },
   "file_extension": ".py",
   "mimetype": "text/x-python",
   "name": "python",
   "nbconvert_exporter": "python",
   "pygments_lexer": "ipython3",
   "version": "3.8.8"
  }
 },
 "nbformat": 4,
 "nbformat_minor": 5
}
